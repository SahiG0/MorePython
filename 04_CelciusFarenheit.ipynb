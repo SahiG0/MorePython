{
 "cells": [
  {
   "cell_type": "code",
   "execution_count": 47,
   "metadata": {},
   "outputs": [],
   "source": [
    "def C():\n",
    "    celcius = float(input(\"Ingrese la t° en grados celcius: \"))\n",
    "    return((celcius * 9/5 ) - 32)\n"
   ]
  },
  {
   "cell_type": "code",
   "execution_count": 48,
   "metadata": {},
   "outputs": [],
   "source": [
    "def F():\n",
    "    farenheit = float(input(\"Ingrese la t° en grados farenheit: \"))\n",
    "    return ((farenheit - 32 ) * 9/5)\n"
   ]
  },
  {
   "cell_type": "code",
   "execution_count": 49,
   "metadata": {},
   "outputs": [],
   "source": [
    "def menu():\n",
    "    Menu1 = '''\n",
    "    ----------Menu-----------------\n",
    "    1_Pasaje de celcius a farenheit\n",
    "    2_Pasaje de farenheit a celcius\n",
    "    3_Salir\n",
    "    -------------------------------\n",
    "    '''\n",
    "    print(Menu1)\n"
   ]
  },
  {
   "cell_type": "code",
   "execution_count": 50,
   "metadata": {},
   "outputs": [
    {
     "name": "stdout",
     "output_type": "stream",
     "text": [
      "\n",
      "    ----------Menu-----------------\n",
      "    1_Pasaje de celcius a farenheit\n",
      "    2_Pasaje de farenheit a celcius\n",
      "    3_Salir\n",
      "    -------------------------------\n",
      "    \n",
      "El resultado de el pasaje de celcius a farenheit es:  3.6\n",
      "\n",
      "    ----------Menu-----------------\n",
      "    1_Pasaje de celcius a farenheit\n",
      "    2_Pasaje de farenheit a celcius\n",
      "    3_Salir\n",
      "    -------------------------------\n",
      "    \n",
      "¡Hata luego!\n"
     ]
    }
   ],
   "source": [
    "\n",
    "def main():\n",
    "    while True:\n",
    "        menu()\n",
    "        opcion = int(input(\"Ingrese la opcion deseada: \"))\n",
    "\n",
    "        if opcion == 1:\n",
    "            f= F()\n",
    "            print(\"El resultado de el pasaje de celcius a farenheit es: \",f )\n",
    "        elif opcion == 2:\n",
    "            c = C()\n",
    "            print(\"El resultado del pasaje de farenheit a celcius es: \", c )\n",
    "        elif opcion == 3:\n",
    "            print(\"¡Hata luego!\")\n",
    "            break\n",
    "        else:\n",
    "            print(\"Opcion invalida\")\n",
    "\n",
    "\n",
    "main()    "
   ]
  }
 ],
 "metadata": {
  "kernelspec": {
   "display_name": "Python 3",
   "language": "python",
   "name": "python3"
  },
  "language_info": {
   "codemirror_mode": {
    "name": "ipython",
    "version": 3
   },
   "file_extension": ".py",
   "mimetype": "text/x-python",
   "name": "python",
   "nbconvert_exporter": "python",
   "pygments_lexer": "ipython3",
   "version": "3.11.1"
  },
  "orig_nbformat": 4
 },
 "nbformat": 4,
 "nbformat_minor": 2
}
