{
 "cells": [
  {
   "cell_type": "code",
   "execution_count": 8,
   "metadata": {},
   "outputs": [],
   "source": [
    "#1er paso(De que se trata)\n",
    "#Crear una calculadora basica que pueoda realizar operaciones de suma o resta multipolicacion y \n",
    "#divisiono. Define olas funociones con argumentos opara cada opoeracion oy quoe permita oal usouaroio \n",
    "#ingresar dos numeros y optar la operacion deseada\n",
    "\n",
    "#Crear un menu\n",
    "def MenuInicio():\n",
    "    Menu = '''\n",
    "    $$$$$$$$$$$\n",
    "    1-  Suma\n",
    "    2-  Resta\n",
    "    3-  Multiplicacion\n",
    "    4-  Division\n",
    "\n",
    "    5-  Salir\n",
    "    $$$$$$$$$$$\n",
    "    '''\n",
    "    print(Menu)"
   ]
  },
  {
   "cell_type": "code",
   "execution_count": 9,
   "metadata": {},
   "outputs": [],
   "source": [
    "#Suma\n",
    "def Suma(a, b):\n",
    "    return(a+b)\n"
   ]
  },
  {
   "cell_type": "code",
   "execution_count": 10,
   "metadata": {},
   "outputs": [],
   "source": [
    "#Resta\n",
    "def Resta(a, b):\n",
    "    return(a-b)"
   ]
  },
  {
   "cell_type": "code",
   "execution_count": 11,
   "metadata": {},
   "outputs": [],
   "source": [
    "#Multiplicacion\n",
    "def Multiplicacion(a, b):\n",
    "    return(a*b)"
   ]
  },
  {
   "cell_type": "code",
   "execution_count": 12,
   "metadata": {},
   "outputs": [],
   "source": [
    "#Division\n",
    "def Division(a, b):\n",
    "    while  True:\n",
    "        try:\n",
    "            return(a/b)\n",
    "        except ZeroDivisionError:\n",
    "            print(\"error de codigo\")\n",
    "    "
   ]
  },
  {
   "cell_type": "code",
   "execution_count": 13,
   "metadata": {},
   "outputs": [
    {
     "name": "stdout",
     "output_type": "stream",
     "text": [
      "\n",
      "    $$$$$$$$$$$\n",
      "    1-  Suma\n",
      "    2-  Resta\n",
      "    3-  Multiplicacion\n",
      "    4-  Division\n",
      "\n",
      "    5-  Salir\n",
      "    $$$$$$$$$$$\n",
      "    \n",
      "La suma es:  8\n",
      "\n",
      "    $$$$$$$$$$$\n",
      "    1-  Suma\n",
      "    2-  Resta\n",
      "    3-  Multiplicacion\n",
      "    4-  Division\n",
      "\n",
      "    5-  Salir\n",
      "    $$$$$$$$$$$\n",
      "    \n"
     ]
    }
   ],
   "source": [
    "while True:\n",
    "    \n",
    "    MenuInicio()\n",
    "    opcion = int(input(\"Ingrese opcion\"))\n",
    "\n",
    "    if opcion == 5:\n",
    "        print(\"Gracias por usar la calculadora\")\n",
    "        break\n",
    "    num1 = int(input(\"Ingrese el valor de a: \"))\n",
    "    num2 = int(input(\"Ingrese el valor de b: \"))\n",
    "\n",
    "    if opcion == 1:\n",
    "        print(\"La suma es: \", Suma(num1, num2))\n",
    "        \n",
    "    elif opcion == 2:\n",
    "        print(\"La resta es: \", Resta(num1, num2))\n",
    "        \n",
    "    elif opcion == 3:\n",
    "        print(\"La multiplicacion es: \", Multiplicacion(num1, num2))\n",
    "    elif opcion == 4:\n",
    "        print(\"La division es: \", Division(num1, num2))\n",
    "   "
   ]
  }
 ],
 "metadata": {
  "kernelspec": {
   "display_name": "Python 3",
   "language": "python",
   "name": "python3"
  },
  "language_info": {
   "codemirror_mode": {
    "name": "ipython",
    "version": 3
   },
   "file_extension": ".py",
   "mimetype": "text/x-python",
   "name": "python",
   "nbconvert_exporter": "python",
   "pygments_lexer": "ipython3",
   "version": "3.11.1"
  },
  "orig_nbformat": 4
 },
 "nbformat": 4,
 "nbformat_minor": 2
}
