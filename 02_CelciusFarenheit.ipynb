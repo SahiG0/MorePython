{
 "cells": [
  {
   "cell_type": "code",
   "execution_count": 18,
   "metadata": {},
   "outputs": [],
   "source": [
    "def Menu1():\n",
    "    print(\"*************** Menu ***************\")\n",
    "    print(\"| 1_ Pasaje de celcius a farenheit *|\")\n",
    "    print(\"| 2_ Pasaje de farenheit a celcius |\")\n",
    "    print(\"| 3_ Salir                         |\")\n",
    "    print(\"|**********************************|\")\n"
   ]
  },
  {
   "cell_type": "code",
   "execution_count": 19,
   "metadata": {},
   "outputs": [],
   "source": [
    "def PCF(celcius):\n",
    "    return(celcius * 9 / 5) + 32\n",
    "\n",
    "    "
   ]
  },
  {
   "cell_type": "code",
   "execution_count": 20,
   "metadata": {},
   "outputs": [],
   "source": [
    "def PFC(farenheit):\n",
    "    return(farenheit - 32) * 5 / 9\n"
   ]
  },
  {
   "cell_type": "code",
   "execution_count": null,
   "metadata": {},
   "outputs": [],
   "source": [
    "def principal():\n",
    "    while True:\n",
    "        opcion = int(input(\"Ingrese el pasaje a relizar\"))\n",
    "        if opcion == 1:\n",
    "            celcius = float(input(\"Ingrese la t°: \"))\n",
    "            farenheit = PCF(celcius)\n",
    "            print(\"El resultado del pasaje de celcius a farenheit es: \", celcius)\n",
    "        elif opcion == 2:\n",
    "            farenheit = float(input(\"Ingrese la t°: \"))\n",
    "            celcius = PFC(farenheit)\n",
    "            print(\"El resultado del pasaje de farenehit a celcius es: \", farenheit)\n",
    "        elif opcion == 3:\n",
    "            print(\"Bai loko\")\n",
    "            break\n"
   ]
  }
 ],
 "metadata": {
  "kernelspec": {
   "display_name": "Python 3",
   "language": "python",
   "name": "python3"
  },
  "language_info": {
   "codemirror_mode": {
    "name": "ipython",
    "version": 3
   },
   "file_extension": ".py",
   "mimetype": "text/x-python",
   "name": "python",
   "nbconvert_exporter": "python",
   "pygments_lexer": "ipython3",
   "version": "3.11.0"
  },
  "orig_nbformat": 4
 },
 "nbformat": 4,
 "nbformat_minor": 2
}
